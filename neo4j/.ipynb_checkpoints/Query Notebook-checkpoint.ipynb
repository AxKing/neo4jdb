{
 "cells": [
  {
   "cell_type": "code",
   "execution_count": null,
   "id": "37afe679",
   "metadata": {},
   "outputs": [],
   "source": [
    "# These queries assume that you have stood up the neo4j database as illustrated in the readme.\n",
    "# This connects to the docker instance and uses the demo data."
   ]
  },
  {
   "cell_type": "code",
   "execution_count": 1,
   "id": "910f9fe5",
   "metadata": {},
   "outputs": [],
   "source": [
    "from neo4j import GraphDatabase"
   ]
  },
  {
   "cell_type": "code",
   "execution_count": 2,
   "id": "f6b3e98e",
   "metadata": {},
   "outputs": [],
   "source": [
    "uri = \"bolt://localhost:7687\"  # Replace with your Neo4j server URI\n",
    "username = \"neo4j\"\n",
    "password = \"password\""
   ]
  },
  {
   "cell_type": "code",
   "execution_count": 3,
   "id": "29b5f362",
   "metadata": {},
   "outputs": [],
   "source": [
    "def get_basic_nodes(node_type):\n",
    "    query = f'MATCH (n:{node_type}) RETURN n;'\n",
    "    with GraphDatabase.driver(uri, auth=(username, password)) as driver:\n",
    "        nodes, summary_obj, key_list = driver.execute_query(query)\n",
    "        # for node in nodes:\n",
    "            # print(node)\n",
    "    return nodes"
   ]
  },
  {
   "cell_type": "code",
   "execution_count": 4,
   "id": "b31fe148",
   "metadata": {
    "scrolled": true
   },
   "outputs": [
    {
     "name": "stdout",
     "output_type": "stream",
     "text": [
      "Case Study: Narnia http://example.com/Case Study: Narnia.dhtml 2009-01-23\n",
      "Economic Growth And Environmental Protection http://example.com/Economic Growth And Environmental Protection.dhtml 2020-12-27\n",
      "Ecology And Environmental Science http://example.com/Ecology And Environmental Science.dhtml 2002-01-13\n",
      "Trends in Solar Panels http://example.com/Trends in Solar Panels.dhtml 2002-07-26\n",
      "3rd Annual Report from the Council http://example.com/3rd Annual Report from the Council.dhtml 2020-05-10\n",
      "Emergency Analysis of Fort Lejeune http://example.com/Emergency Analysis of Fort Lejeune.dhtml 2011-06-08\n",
      "Competitive Environmental Strategies http://example.com/Competitive Environmental Strategies.dhtml 2022-02-28\n",
      "Community Environmental Education http://example.com/Community Environmental Education.dhtml 2005-05-30\n"
     ]
    }
   ],
   "source": [
    "# ALL the Documents\n",
    "doc_records = get_basic_nodes('Document')\n",
    "for record in doc_records:\n",
    "    node = record['n']\n",
    "    print(node['name'], node['url'], node['date'])"
   ]
  },
  {
   "cell_type": "code",
   "execution_count": 53,
   "id": "f439744b",
   "metadata": {},
   "outputs": [
    {
     "name": "stdout",
     "output_type": "stream",
     "text": [
      "Zenith Homes\n",
      "Eco Nest Homes\n",
      "Nature Works\n",
      "NSA\n",
      "Happy Oil\n",
      "FDA\n",
      "Green Scape\n"
     ]
    }
   ],
   "source": [
    "# ALL the Entities\n",
    "ent_records = get_basic_nodes('Entity')\n",
    "for record in ent_records:\n",
    "    node = record['n']\n",
    "    print(node['name'])"
   ]
  },
  {
   "cell_type": "code",
   "execution_count": 55,
   "id": "56c0e65d",
   "metadata": {},
   "outputs": [
    {
     "name": "stdout",
     "output_type": "stream",
     "text": [
      "Fire\n",
      "Food\n",
      "Water\n",
      "Air\n",
      "Oil\n",
      "Earth\n"
     ]
    }
   ],
   "source": [
    "# ALL the categories\n",
    "cat_records = get_basic_nodes('Category')\n",
    "for record in cat_records:\n",
    "    node = record['n']\n",
    "    print(node['name'])"
   ]
  },
  {
   "cell_type": "code",
   "execution_count": 68,
   "id": "4475ddd9",
   "metadata": {},
   "outputs": [
    {
     "name": "stdout",
     "output_type": "stream",
     "text": [
      "Competitive Environmental Strategies http://example.com/Competitive Environmental Strategies.dhtml\n",
      "Emergency Analysis of Fort Lejeune http://example.com/Emergency Analysis of Fort Lejeune.dhtml\n",
      "Economic Growth And Environmental Protection http://example.com/Economic Growth And Environmental Protection.dhtml\n",
      "Case Study: Narnia http://example.com/Case Study: Narnia.dhtml\n",
      "Ecology And Environmental Science http://example.com/Ecology And Environmental Science.dhtml\n",
      "Community Environmental Education http://example.com/Community Environmental Education.dhtml\n",
      "3rd Annual Report from the Council http://example.com/3rd Annual Report from the Council.dhtml\n",
      "Trends in Solar Panels http://example.com/Trends in Solar Panels.dhtml\n"
     ]
    }
   ],
   "source": [
    "# Given an Entity name, return all documents\n",
    "def doc_by_entity(entity):\n",
    "    query = f\"\"\"MATCH (e:Entity {{name: '{entity}'}})<-[:mentions]-(s:Snippet)-[:was_found_in]->(d:Document) \n",
    "        RETURN DISTINCT d;\"\"\"\n",
    "    with GraphDatabase.driver(uri, auth=(username, password)) as driver:\n",
    "        records, summary_obj, key_list = driver.execute_query(query)\n",
    "    return records\n",
    "\n",
    "# Example\n",
    "docs = doc_by_entity('FDA')\n",
    "for doc in docs:\n",
    "    node = doc['d']\n",
    "    print(node['name'], node['url'])"
   ]
  },
  {
   "cell_type": "code",
   "execution_count": 80,
   "id": "981a8894",
   "metadata": {},
   "outputs": [
    {
     "name": "stdout",
     "output_type": "stream",
     "text": [
      "Competitive Environmental Strategies http://example.com/Competitive Environmental Strategies.dhtml\n",
      "Economic Growth And Environmental Protection http://example.com/Economic Growth And Environmental Protection.dhtml\n",
      "3rd Annual Report from the Council http://example.com/3rd Annual Report from the Council.dhtml\n"
     ]
    }
   ],
   "source": [
    "# Given an Entity and a date range, return all documents\n",
    "# Requires entity name, and two dates.\n",
    "# date1 < date2\n",
    "\n",
    "def doc_in_date_range(entity, date1, date2):\n",
    "    yr1, m1, d1 = date1.split('-')\n",
    "    yr2, m2, d2 = date2.split('-')\n",
    "    query = f\"\"\"\n",
    "    MATCH (e:Entity {{name: '{entity}'}})<-[:mentions]-(s:Snippet)-[:was_found_in]->(d:Document) \n",
    "    WHERE d.date >= date({{year:{yr1}, month:{m1}, day:{d1}}})\n",
    "    AND d.date <= date({{year:{yr2},month:{m2},day:{d1}}})\n",
    "    RETURN DISTINCT d;\"\"\"\n",
    "    with GraphDatabase.driver(uri, auth=(username, password)) as driver:\n",
    "        records, summary_obj, key_list = driver.execute_query(query)\n",
    "    return records\n",
    "\n",
    "\n",
    "# Example\n",
    "entity = 'FDA'\n",
    "date1 = '2020-2-15'\n",
    "date2 = '2023-12-31'\n",
    "docs = doc_in_date_range(entity, date1, date2)\n",
    "for doc in docs:\n",
    "    node = doc['d']\n",
    "    print(node['name'], node['url'])"
   ]
  },
  {
   "cell_type": "code",
   "execution_count": 87,
   "id": "b72aff68",
   "metadata": {},
   "outputs": [
    {
     "name": "stdout",
     "output_type": "stream",
     "text": [
      "Air\n",
      "Earth\n",
      "Oil\n",
      "Fire\n",
      "Water\n",
      "Food\n"
     ]
    }
   ],
   "source": [
    "# Given an Entity, return all categories\n",
    "def cat_by_entity(entity):\n",
    "    query = f\"\"\"\n",
    "    MATCH (e:Entity {{name: '{entity}'}})<-[:mentions]-(s:Snippet) -[:relates_to]->(c:Category)\n",
    "        RETURN DISTINCT c\"\"\"\n",
    "    with GraphDatabase.driver(uri, auth=(username, password)) as driver:\n",
    "        records, summary_obj, key_list = driver.execute_query(query)\n",
    "    return records\n",
    "\n",
    "# Example\n",
    "docs = cat_by_entity('FDA')\n",
    "for doc in docs:\n",
    "    node = doc['c']\n",
    "    print(node['name'])"
   ]
  },
  {
   "cell_type": "code",
   "execution_count": 90,
   "id": "3a9fd08c",
   "metadata": {},
   "outputs": [
    {
     "name": "stdout",
     "output_type": "stream",
     "text": [
      "Green Scape\n",
      "Eco Nest Homes\n",
      "NSA\n",
      "Nature Works\n",
      "Happy Oil\n",
      "Zenith Homes\n",
      "FDA\n"
     ]
    }
   ],
   "source": [
    "# Given a Document, return all mentioned Entities\n",
    "\n",
    "def entities_by_doc(document):\n",
    "    query = f\"\"\"\n",
    "    MATCH(d:Document {{name: '{document}'}}) <-[:was_found_in]-(s:Snippet)<-[:mentions]->(e:Entity)\n",
    "        RETURN DISTINCT e\"\"\"\n",
    "    with GraphDatabase.driver(uri, auth=(username, password)) as driver:\n",
    "        records, summary_obj, key_list = driver.execute_query(query)\n",
    "    return records\n",
    "# Example\n",
    "docs = entities_by_doc('Competitive Environmental Strategies')\n",
    "for doc in docs:\n",
    "    node = doc['e']\n",
    "    print(node['name'])"
   ]
  }
 ],
 "metadata": {
  "kernelspec": {
   "display_name": "Python 3 (ipykernel)",
   "language": "python",
   "name": "python3"
  },
  "language_info": {
   "codemirror_mode": {
    "name": "ipython",
    "version": 3
   },
   "file_extension": ".py",
   "mimetype": "text/x-python",
   "name": "python",
   "nbconvert_exporter": "python",
   "pygments_lexer": "ipython3",
   "version": "3.9.12"
  }
 },
 "nbformat": 4,
 "nbformat_minor": 5
}
